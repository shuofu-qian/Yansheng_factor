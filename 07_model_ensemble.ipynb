{
 "cells": [
  {
   "cell_type": "code",
   "execution_count": 1,
   "metadata": {},
   "outputs": [],
   "source": [
    "import numpy as np\n",
    "import math\n",
    "\n",
    "import sklearn\n",
    "# from sklearn.ensemble import BaggingRegressor\n",
    "# from sklearn.ensemble import RandomForestRegressor\n",
    "from sklearn import metrics\n",
    "\n",
    "from mypython import MLmodel"
   ]
  },
  {
   "cell_type": "code",
   "execution_count": 31,
   "metadata": {},
   "outputs": [],
   "source": [
    "class EnsembleModel(MLmodel.MLmodel):\n",
    "    def __init__(self,x,y,model=sklearn.ensemble.BaggingRegressor(),name=None):\n",
    "        super().__init__(x,y,model,name)"
   ]
  },
  {
   "cell_type": "code",
   "execution_count": 33,
   "metadata": {},
   "outputs": [
    {
     "name": "stdout",
     "output_type": "stream",
     "text": [
      "bagging   :  MSE:0.04, RMSE:0.21, MAE:0.17\n",
      "randomforest:  MSE:0.05, RMSE:0.22, MAE:0.17\n"
     ]
    }
   ],
   "source": [
    "def main_bagging():\n",
    "    from sklearn import linear_model\n",
    "\n",
    "    global model_bagging\n",
    "    x,y = MLmodel.load_data()\n",
    "    model_bagging = EnsembleModel(x,y,model=sklearn.ensemble.BaggingRegressor(linear_model.LinearRegression(),n_jobs=-1),name='bagging')\n",
    "    model_bagging.split_train_test(0.99,random_state=42).fit_model().predict().evaluate_model()\n",
    "\n",
    "def main_randomforest():\n",
    "    global model_randomforest\n",
    "    x,y, = MLmodel.load_data()\n",
    "    model_randomforest = EnsembleModel(x,y,model=sklearn.ensemble.RandomForestRegressor(n_jobs=-1,),name='randomforest')\n",
    "    model_randomforest.split_train_test(0.99,random_state=42).fit_model().predict().evaluate_model()\n",
    "\n",
    "\n",
    "if __name__ == '__main__':\n",
    "    main_bagging()\n",
    "    main_randomforest()\n"
   ]
  },
  {
   "cell_type": "code",
   "execution_count": 1,
   "metadata": {},
   "outputs": [
    {
     "name": "stdout",
     "output_type": "stream",
     "text": [
      "\u001b[33mWARNING: Skipping jupyterlab_kite as it is not installed.\u001b[0m\u001b[33m\n",
      "\u001b[0mNote: you may need to restart the kernel to use updated packages.\n"
     ]
    }
   ],
   "source": [
    "pip uninstall jupyterlab_kite"
   ]
  },
  {
   "cell_type": "code",
   "execution_count": null,
   "metadata": {},
   "outputs": [],
   "source": []
  }
 ],
 "metadata": {
  "kernelspec": {
   "display_name": "rapids-22.12",
   "language": "python",
   "name": "rapids-22.12"
  },
  "language_info": {
   "codemirror_mode": {
    "name": "ipython",
    "version": 3
   },
   "file_extension": ".py",
   "mimetype": "text/x-python",
   "name": "python",
   "nbconvert_exporter": "python",
   "pygments_lexer": "ipython3",
   "version": "3.8.15"
  }
 },
 "nbformat": 4,
 "nbformat_minor": 4
}
