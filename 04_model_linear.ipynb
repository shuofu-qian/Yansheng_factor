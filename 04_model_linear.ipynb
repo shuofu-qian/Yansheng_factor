{
 "cells": [
  {
   "cell_type": "code",
   "execution_count": 9,
   "metadata": {},
   "outputs": [],
   "source": [
    "import numpy as np\n",
    "\n",
    "import os\n",
    "import math\n",
    "import matplotlib.pyplot as plt\n",
    "\n",
    "import sklearn\n",
    "from sklearn.model_selection import train_test_split\n",
    "import cuml\n",
    "from cuml import metrics\n",
    "\n",
    "from mypython import MLmodel"
   ]
  },
  {
   "cell_type": "code",
   "execution_count": 2,
   "metadata": {},
   "outputs": [],
   "source": [
    "# class LinearModel():\n",
    "#     def __init__(self, x, y, model=linear_model.LinearRegression(),name=None):\n",
    "#         self.x = x\n",
    "#         self.y = y\n",
    "#         self.model = model\n",
    "\n",
    "#         self.x_train,self.y_train = None,None\n",
    "#         self.x_test, self.y_test  = None,None\n",
    "#         self.y_pred = None\n",
    "\n",
    "#         self.name = name\n",
    "\n",
    "\n",
    "#     def split_train_test(self, ratio=0.1):\n",
    "#         assert len(self.x) == len(self.y), 'Error:The lenth of x and y is not matched'\n",
    "#         assert ratio > 0 and ratio < 1, 'Error: The value of ratio is not sensible'\n",
    "\n",
    "#         indx = math.floor(len(self.x)*(1-ratio))\n",
    "#         self.x_train,self.y_train = self.x[:indx],self.y[:indx]\n",
    "#         self.x_test, self.y_test  = self.x[indx:],self.y[indx:]\n",
    "\n",
    "#         return self\n",
    "\n",
    "\n",
    "#     def fit_model(self):\n",
    "#         self.model.fit(self.x_train,self.y_train)\n",
    "\n",
    "#         return self\n",
    "\n",
    "\n",
    "#     def get_coef(self):\n",
    "#         print('Coefficients:',self.model.coef_)\n",
    "\n",
    "#         return self.model.coef_\n",
    "\n",
    "\n",
    "#     def predict(self,scaling = True):\n",
    "#         self.y_pred = self.model.predict(self.x_test)\n",
    "        \n",
    "#         # 预测出的y中有极端值比如特别大的导致mae,mse失效,是把预测出的y按排名归一化,还是直接限制他的值在0-1之间?\n",
    "#         if scaling:                                                                    \n",
    "#             self.y_pred = self.y_pred.argsort().argsort()/len(self.y_pred)\n",
    "        \n",
    "#         return self\n",
    "\n",
    "\n",
    "#     def evaluate_model(self):\n",
    "#         mse  = metrics.mean_squared_error(self.y_test,self.y_pred)\n",
    "#         rmse = math.sqrt(mse)\n",
    "#         mae  = metrics.mean_absolute_error(self.y_test,self.y_pred)\n",
    "#         r2   = metrics.r2_score(self.y_test,self.y_pred)\n",
    "\n",
    "#         print('{}:  MSE:{:.2f},RMSE:{:.2f},MAE:{:.2f},R2:{:.2f}'.format(self.name,mse,rmse,mae,r2))\n",
    "\n",
    "#         return mse,rmse,mae,r2\n",
    "\n",
    "    # 写完发现下面的内容都是多余的....... -.-!\n",
    "    '''\n",
    "    def __ridge_para(self, alphas=[0.1,1.0,10], fit_intercept=True, cv=None):\n",
    "        reg = linear_model.RidgeCV(alphas=alphas, fit_intercept=fit_intercept, cv=cv)\n",
    "        reg.fit(self.x_train, self.y_train)\n",
    "        return reg\n",
    "    \n",
    "    def __lasso_para(self, eps=0.001, n_alphas=100, alphas=None, fit_intercept=True, cv=None):\n",
    "        reg = linear_model.LassoCV(eps=eps, n_alphas=n_alphas, alphas=alphas, fit_intercept=fit_intercept, cv= cv)\n",
    "        reg.fit(self.x_train, self.y_train)\n",
    "        return reg\n",
    "\n",
    "    def __elasticnet_para(self, l1_ratio=0.5, eps=0.001, n_alphas=100, alphas=None, fit_intercept=True, cv=None):\n",
    "        reg = linear_model.ElasticNetCV(l1_ratio=l1_ratio, eps=eps, n_alphas=n_alphas, alphas=alphas, fit_intercept=fit_intercept, cv=cv)\n",
    "        reg.fit(self.x_train, self.y_train)\n",
    "        return reg\n",
    "\n",
    "    def get_best_para(self,alphas=None, l1_ratio=0.5, eps=0.001, n_alphas=100, fit_intercept=True, cv=None, replace=True):\n",
    "        if type(self.model) == type(linear_model.Ridge()):\n",
    "            if alphas == None:\n",
    "                reg = self.__ridge_para(fit_intercept=fit_intercept, cv=cv)\n",
    "            else:\n",
    "                reg = self.__ridge_para(alphas=alphas,fit_intercept=fit_intercept, cv=cv)\n",
    "            print('alpha:{}'.format(reg.alpha_))\n",
    "        elif type(self.model) == type(linear_model.Lasso()):\n",
    "            reg = self.__lasso_para(eps=eps, n_alphas=n_alphas, alphas=alphas, fit_intercept=fit_intercept, cv= cv)\n",
    "            print('alpha:{}'.format(reg.alpha_))\n",
    "        elif type(self.model) == type(linear_model.ElasticNet()):\n",
    "            reg = self.__elasticnet_para(l1_ratio=l1_ratio, eps=eps, n_alphas=n_alphas, alphas=alphas, fit_intercept=fit_intercept, cv=cv)\n",
    "            print('alpha:{}  l1_ratio:{}'.format(reg.alpha_,reg.l1_ratio_))\n",
    "        else:\n",
    "            raise Exception(\"the type of model is not supported to find the best parameter\") \n",
    "        \n",
    "        if replace:\n",
    "            self.model.alpha = reg.alpha_\n",
    "            try:\n",
    "                self.model.l1_ratio = reg.l1_ratio_\n",
    "            except:\n",
    "                pass\n",
    "            \n",
    "        return self\n",
    "    '''\n",
    "\n",
    "\n"
   ]
  },
  {
   "cell_type": "code",
   "execution_count": 3,
   "metadata": {},
   "outputs": [],
   "source": [
    "class LinearModel(MLmodel.MLmodel):\n",
    "    def __init__(self, x, y, model=sklearn.linear_model.LinearRegression(), name=None):\n",
    "        super().__init__(x, y, model, name)\n",
    "\n",
    "    def get_coef(self):\n",
    "        print('Coefficients:',self.model.coef_)\n",
    "\n",
    "        return self.model.coef_\n",
    "\n",
    "    def evaluate_model(self,print_=True):\n",
    "        r2 = metrics.r2_score(self.y_test,self.y_pred)\n",
    "        mse,rmse,mae = super().evaluate_model(print_=False)\n",
    "        if print_:\n",
    "            print('{:<10}:  MSE:{:.2f}, RMSE:{:.2f}, MAE:{:.2f}, R2:{:.2f}'.format(self.name,mse,rmse,mae,r2))\n",
    "\n",
    "        return mse,rmse,mae,r2"
   ]
  },
  {
   "cell_type": "code",
   "execution_count": 3,
   "metadata": {},
   "outputs": [
    {
     "name": "stdout",
     "output_type": "stream",
     "text": [
      "linear    :  MSE:429586.67, RMSE:655.43, MAE:4.93, R2:-428606.24\n"
     ]
    }
   ],
   "source": [
    "def main():\n",
    "    global x,y,model_linear,model_ridge,model_lasso,model_elasticnet\n",
    "\n",
    "    x,y = MLmodel.load_data()\n",
    "    param_dict = {'alphas':[0.1,0.4,0.7,1,2,5,10],\n",
    "                  'l1_ratio':[0.1,0.5,0.9]}\n",
    "\n",
    "    # model_linear     = LinearModel(x,y,linear_model.LinearRegression(), name = 'linear')\n",
    "    # model_ridge      = LinearModel(x,y,linear_model.RidgeCV(alphas=param_dict['alphas']), name = 'ridge')\n",
    "    # model_lasso      = LinearModel(x,y,linear_model.LassoCV(alphas=param_dict['alphas']), name = 'lasso')\n",
    "    # model_elasticnet = LinearModel(x,y,linear_model.ElasticNetCV(alphas=param_dict['alphas'],l1_ratio=param_dict['l1_ratio']), name = 'elasticnet')\n",
    "\n",
    "    model_linear     = LinearModel(x,y,sklearn.linear_model.LinearRegression(), name = 'linear')\n",
    "    model_ridge      = LinearModel(x,y,sklearn.linear_model.Ridge(), name = 'ridge')\n",
    "    model_lasso      = LinearModel(x,y,sklearn.linear_model.Lasso(), name = 'lasso')\n",
    "    model_elasticnet = LinearModel(x,y,sklearn.linear_model.ElasticNet(), name = 'elasticnet')\n",
    "\n",
    "    model_linear.split_train_test(0.3).fit_model().predict().evaluate_model()\n",
    "    model_ridge.split_train_test(0.3).fit_model().predict().evaluate_model()\n",
    "    model_lasso.split_train_test(0.3).fit_model().predict().evaluate_model()\n",
    "    model_elasticnet.split_train_test(0.3).fit_model().predict().evaluate_model()\n",
    "\n",
    "if __name__ == '__main__':\n",
    "    main()"
   ]
  },
  {
   "cell_type": "code",
   "execution_count": 29,
   "metadata": {},
   "outputs": [
    {
     "data": {
      "text/plain": [
       "cuml.linear_model.logistic_regression.LogisticRegression"
      ]
     },
     "execution_count": 29,
     "metadata": {},
     "output_type": "execute_result"
    }
   ],
   "source": [
    "type(cuml.LogisticRegression())"
   ]
  },
  {
   "cell_type": "code",
   "execution_count": 20,
   "metadata": {},
   "outputs": [
    {
     "data": {
      "text/plain": [
       "cuml.linear_model.linear_regression.LinearRegression"
      ]
     },
     "execution_count": 20,
     "metadata": {},
     "output_type": "execute_result"
    }
   ],
   "source": [
    "cuml.linear_model.LinearRegression"
   ]
  },
  {
   "cell_type": "code",
   "execution_count": null,
   "metadata": {},
   "outputs": [],
   "source": []
  }
 ],
 "metadata": {
  "kernelspec": {
   "display_name": "tensorflow",
   "language": "python",
   "name": "python3"
  },
  "language_info": {
   "codemirror_mode": {
    "name": "ipython",
    "version": 3
   },
   "file_extension": ".py",
   "mimetype": "text/x-python",
   "name": "python",
   "nbconvert_exporter": "python",
   "pygments_lexer": "ipython3",
   "version": "3.8.15"
  },
  "orig_nbformat": 4,
  "vscode": {
   "interpreter": {
    "hash": "bd191768065e71055ab73159bbdaca3f793c1d90e9e5e77bd0716e0ae22fa537"
   }
  }
 },
 "nbformat": 4,
 "nbformat_minor": 2
}
