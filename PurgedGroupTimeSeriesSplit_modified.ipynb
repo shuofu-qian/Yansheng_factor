{
 "cells": [
  {
   "cell_type": "code",
   "execution_count": 2,
   "id": "1250acf6",
   "metadata": {},
   "outputs": [],
   "source": [
    "import numpy as np\n",
    "from sklearn.model_selection import KFold\n",
    "from sklearn.model_selection._split import _BaseKFold, indexable, _num_samples\n",
    "from sklearn.utils.validation import _deprecate_positional_args\n",
    "\n",
    "class PurgedGroupTimeSeriesSplit(_BaseKFold):\n",
    "\n",
    "    @_deprecate_positional_args\n",
    "    def __init__(self, n_splits=5, *, n_groups=50, group_train_size=30, group_test_size=6, group_gap=2, verbose=False):\n",
    "        super().__init__(n_splits, shuffle=False, random_state=None)\n",
    "        self.n_groups = n_groups\n",
    "        self.group_train_size = group_train_size\n",
    "        self.group_test_size = group_test_size\n",
    "        self.group_gap = group_gap\n",
    "        self.verbose = verbose\n",
    "    \n",
    "    def split(self, X, y=None):\n",
    "        n_groups = self.n_groups\n",
    "        group_train_size = self.group_train_size\n",
    "        group_test_size = self.group_test_size\n",
    "        group_gap = self.group_gap\n",
    "\n",
    "        X, y = indexable(X, y)\n",
    "        n_samples = _num_samples(X)\n",
    "        n_splits = self.n_splits\n",
    "\n",
    "        assert (group_train_size + group_gap + group_test_size + self.n_splits*1) <= n_groups, \\\n",
    "                \"The group nums of test and train set is not sensible\"\n",
    "\n",
    "        group_dict = {}\n",
    "        groups = np.sort(np.array(list(range(n_groups))*np.ceil(n_samples/n_groups).astype('int'))[:n_samples])\n",
    "        unique_groups, ind = np.unique(groups, return_index=True)\n",
    "\n",
    "        for idx in np.arange(n_samples):\n",
    "            if (groups[idx] in group_dict):\n",
    "                group_dict[groups[idx]].append(idx)\n",
    "            else:\n",
    "                group_dict[groups[idx]] = [idx]\n",
    "        \n",
    "        group_slip = int((n_groups - (group_train_size + group_gap + group_test_size))/(n_splits-1))\n",
    "        group_train_starts = range(0, n_splits*group_slip, group_slip)\n",
    "\n",
    "        splits = 1\n",
    "        for group_train_start in group_train_starts:\n",
    "            train_array = []\n",
    "            test_array = []\n",
    "\n",
    "            for i in range(group_train_start, group_train_start+group_train_size):\n",
    "                train_array += group_dict[i]\n",
    "            for i in range(group_train_start+group_train_size+group_gap, group_train_start+group_train_size+group_gap+group_test_size):\n",
    "                test_array += group_dict[i]\n",
    "            \n",
    "            if splits == n_splits:\n",
    "                for j in range(i,n_groups):\n",
    "                    test_array += group_dict[j]\n",
    "\n",
    "            if self.verbose > 0:\n",
    "                pass\n",
    "\n",
    "            yield [int(i) for i in train_array], [int(i) for i in test_array]\n",
    "            splits += 1"
   ]
  },
  {
   "cell_type": "code",
   "execution_count": 3,
   "id": "2ddfb6f5",
   "metadata": {},
   "outputs": [],
   "source": [
    "from matplotlib.colors import ListedColormap\n",
    "import numpy as np\n",
    "import matplotlib.pyplot as plt\n",
    "\n",
    "# this is code slightly modified from the sklearn docs here:\n",
    "# https://scikit-learn.org/stable/auto_examples/model_selection/plot_cv_indices.html#sphx-glr-auto-examples-model-selection-plot-cv-indices-py\n",
    "def plot_cv_indices(cv, X, y, ax, lw=10):\n",
    "    \"\"\"Create a sample plot for indices of a cross-validation object.\"\"\"\n",
    "\n",
    "    n_splits = cv.n_splits\n",
    "    n_groups = cv.n_groups\n",
    "\n",
    "    cmap_cv = plt.cm.coolwarm\n",
    "\n",
    "    jet = plt.cm.get_cmap('jet', 256)\n",
    "    seq = np.linspace(0, 1, 256)\n",
    "    _ = np.random.shuffle(seq)   # inplace\n",
    "    cmap_data = ListedColormap(jet(seq))\n",
    "\n",
    "    # Generate the training/testing visualizations for each CV split\n",
    "    for ii, (tr, tt) in enumerate(cv.split(X=X, y=y)):\n",
    "        # Fill in indices with the training/test groups\n",
    "        indices = np.array([np.nan] * len(X))\n",
    "        indices[tt] = 1\n",
    "        indices[tr] = 0\n",
    "\n",
    "        # Visualize the results\n",
    "        ax.scatter(range(len(indices)), [ii + .5] * len(indices),\n",
    "                   c=indices, marker='_', lw=lw, cmap=cmap_cv,\n",
    "                   vmin=-.2, vmax=1.2)\n",
    "\n",
    "    # Plot the data classes and groups at the end\n",
    "    ax.scatter(range(len(X)), [ii + 1.5] * len(X),\n",
    "               c=y, marker='_', lw=lw, cmap=plt.cm.Set3)\n",
    "\n",
    "    groups = np.sort(np.array(list(range(n_groups))*np.ceil(len(X)/n_groups).astype('int'))[:len(X)])\n",
    "    ax.scatter(range(len(X)), [ii + 2.5] * len(X),\n",
    "               c=groups, marker='_', lw=lw, cmap=cmap_data)\n",
    "\n",
    "    # Formatting\n",
    "    yticklabels = list(range(n_splits)) + ['target', 'day']\n",
    "    ax.set(yticks=np.arange(n_splits+2) + .5, yticklabels=yticklabels,\n",
    "           xlabel='Sample index', ylabel=\"CV iteration\",\n",
    "           ylim=[n_splits+2.2, -.2], xlim=[0, len(y)])\n",
    "    ax.set_title('{}'.format(type(cv).__name__), fontsize=15)\n",
    "    return ax"
   ]
  },
  {
   "cell_type": "code",
   "execution_count": 5,
   "id": "6bd87553",
   "metadata": {},
   "outputs": [
    {
     "name": "stderr",
     "output_type": "stream",
     "text": [
      "/tmp/ipykernel_275925/1554176855.py:15: MatplotlibDeprecationWarning: The get_cmap function was deprecated in Matplotlib 3.7 and will be removed two minor releases later. Use ``matplotlib.colormaps[name]`` or ``matplotlib.colormaps.get_cmap(obj)`` instead.\n",
      "  jet = plt.cm.get_cmap('jet', 256)\n"
     ]
    },
    {
     "data": {
      "image/png": "[encoded data removed]",
      "text/plain": [
       "<Figure size 640x480 with 1 Axes>"
      ]
     },
     "metadata": {},
     "output_type": "display_data"
    }
   ],
   "source": [
    "def main():\n",
    "    x = np.random.random(size=(1780,5))\n",
    "    y = np.random.choice((0,1),size=(1780,))\n",
    "\n",
    "    fig, ax = plt.subplots()\n",
    "    cv = PurgedGroupTimeSeriesSplit(n_groups=50,group_train_size=30,group_test_size=6,group_gap=2)\n",
    "    plot_cv_indices(cv, x, y, ax)\n",
    "\n",
    "if __name__ == '__main__':\n",
    "    main()"
   ]
  },
  {
   "cell_type": "code",
   "execution_count": null,
   "id": "ebca2413",
   "metadata": {},
   "outputs": [],
   "source": []
  }
 ],
 "metadata": {
  "kernelspec": {
   "display_name": "rapids-22.12",
   "language": "python",
   "name": "python3"
  },
  "language_info": {
   "codemirror_mode": {
    "name": "ipython",
    "version": 3
   },
   "file_extension": ".py",
   "mimetype": "text/x-python",
   "name": "python",
   "nbconvert_exporter": "python",
   "pygments_lexer": "ipython3",
   "version": "3.8.15"
  },
  "vscode": {
   "interpreter": {
    "hash": "f1569305fd3e5ad2ba6ad63ff50c7d3504611b3812e387f42aa745a19d1205bc"
   }
  }
 },
 "nbformat": 4,
 "nbformat_minor": 5
}
