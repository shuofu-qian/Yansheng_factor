{
 "cells": [
  {
   "cell_type": "code",
   "execution_count": 1,
   "metadata": {},
   "outputs": [],
   "source": [
    "import numpy as np\n",
    "import math\n",
    "\n",
    "import sklearn\n",
    "from sklearn import metrics\n",
    "\n",
    "from mypython import MLmodel"
   ]
  },
  {
   "cell_type": "code",
   "execution_count": 2,
   "metadata": {},
   "outputs": [],
   "source": [
    "class DecisionTreeModel(MLmodel.MLmodel):\n",
    "    def __init__(self,x,y,model=sklearn.tree.DecisionTreeRegressor(),name=None):\n",
    "        super().__init__(x,y,model,name)"
   ]
  },
  {
   "cell_type": "code",
   "execution_count": 11,
   "metadata": {},
   "outputs": [
    {
     "name": "stdout",
     "output_type": "stream",
     "text": [
      "DTRegressor:  MSE:2.29, RMSE:1.51, MAE:1.02\n"
     ]
    }
   ],
   "source": [
    "def main(select_para = False):\n",
    "    global x,y,model_DTRegressor\n",
    "\n",
    "    x,y = MLmodel.load_data()\n",
    "\n",
    "    # 500,10,50,50\n",
    "    # param_grid = {'max_depth':[10,30,50,100,200,500,1000],\n",
    "    #               'min_samples_split':[2,10,50,100,0.001,0.01],\n",
    "    #               'min_samples_leaf':[1,10,50,100,0.001,0.01],\n",
    "    #               'max_features':[2,5,20,50,'sqrt','log2']}\n",
    "    param_grid = {'max_depth':[10,30,50],\n",
    "                  'min_samples_split':[2,10,50]}\n",
    "  \n",
    "    model_DTRegressor = DecisionTreeModel(x,y,sklearn.tree.DecisionTreeRegressor(),name = 'DTRegressor').split_train_test(0.999)\n",
    "    \n",
    "    if select_para:\n",
    "        param_dict = model_DTRegressor.get_best_param_dict(param_grid).best_params_\n",
    "        model_DTRegressor.set_param(param_dict).fit_model().predict().evaluate_model()\n",
    "    else:\n",
    "        model_DTRegressor.fit_model().predict().evaluate_model()\n",
    "\n",
    "if __name__ == '__main__':\n",
    "    main()"
   ]
  },
  {
   "cell_type": "code",
   "execution_count": null,
   "metadata": {},
   "outputs": [],
   "source": []
  }
 ],
 "metadata": {
  "kernelspec": {
   "display_name": "rapids-22.12",
   "language": "python",
   "name": "rapids-22.12"
  },
  "language_info": {
   "codemirror_mode": {
    "name": "ipython",
    "version": 3
   },
   "file_extension": ".py",
   "mimetype": "text/x-python",
   "name": "python",
   "nbconvert_exporter": "python",
   "pygments_lexer": "ipython3",
   "version": "3.8.15"
  },
  "vscode": {
   "interpreter": {
    "hash": "f1569305fd3e5ad2ba6ad63ff50c7d3504611b3812e387f42aa745a19d1205bc"
   }
  }
 },
 "nbformat": 4,
 "nbformat_minor": 2
}
