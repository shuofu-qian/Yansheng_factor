{
 "cells": [
  {
   "cell_type": "code",
   "execution_count": 1,
   "metadata": {},
   "outputs": [],
   "source": [
    "import numpy as np\n",
    "import tensorflow as tf\n",
    "from tensorflow import keras\n",
    "from tensorflow.keras import layers\n",
    "\n",
    "import matplotlib.pyplot as plt"
   ]
  },
  {
   "cell_type": "code",
   "execution_count": 69,
   "metadata": {},
   "outputs": [
    {
     "name": "stdout",
     "output_type": "stream",
     "text": [
      "Model: \"sequential_26\"\n",
      "_________________________________________________________________\n",
      " Layer (type)                Output Shape              Param #   \n",
      "=================================================================\n",
      " dense_17 (Dense)            (None, 128)               100480    \n",
      "                                                                 \n",
      " dropout_6 (Dropout)         (None, 128)               0         \n",
      "                                                                 \n",
      " dense_18 (Dense)            (None, 10)                1290      \n",
      "                                                                 \n",
      " softmax_2 (Softmax)         (None, 10)                0         \n",
      "                                                                 \n",
      "=================================================================\n",
      "Total params: 101,770\n",
      "Trainable params: 101,770\n",
      "Non-trainable params: 0\n",
      "_________________________________________________________________\n",
      "1875/1875 [==============================] - 6s 3ms/step - loss: 1.5898 - accuracy: 0.8844\n",
      "313/313 [==============================] - 1s 2ms/step\n"
     ]
    },
    {
     "data": {
      "text/plain": [
       "array([[2.93442267e-12, 7.06819068e-22, 1.35055487e-12, ...,\n",
       "        9.99999762e-01, 3.44972315e-12, 5.45531731e-10],\n",
       "       [1.22452725e-11, 6.87081487e-18, 1.00000000e+00, ...,\n",
       "        2.84538693e-32, 1.36074203e-13, 6.21102546e-27],\n",
       "       [1.17679144e-10, 9.99832749e-01, 1.22451602e-04, ...,\n",
       "        3.08024312e-07, 2.91001743e-05, 3.22148253e-07],\n",
       "       ...,\n",
       "       [5.14396855e-17, 3.35402177e-15, 1.19712289e-15, ...,\n",
       "        4.32981047e-11, 4.80789936e-07, 1.39581198e-05],\n",
       "       [7.35701708e-11, 1.18302604e-10, 2.80527520e-14, ...,\n",
       "        1.38510300e-15, 1.26230868e-03, 2.09184319e-12],\n",
       "       [6.23076284e-14, 2.75787729e-23, 1.02709746e-12, ...,\n",
       "        4.85613914e-27, 7.77935904e-18, 1.66308136e-20]], dtype=float32)"
      ]
     },
     "execution_count": 69,
     "metadata": {},
     "output_type": "execute_result"
    }
   ],
   "source": [
    "# with tf.device('/gpu:0'):\n",
    "mnist = tf.keras.datasets.mnist\n",
    "(x_train, y_train), (x_test, y_test) = mnist.load_data(path='/home/qianshuofu/.keras/datasets/mnist.npz')\n",
    "x_train, x_test = x_train / 255.0, x_test / 255.0\n",
    "x_train = x_train.reshape(60000,28*28)\n",
    "x_test = x_test.reshape(10000,28*28)\n",
    "\n",
    "model = keras.Sequential([layers.Dense(128,input_shape=[784]),\n",
    "                          layers.Dropout(0.2),\n",
    "                          layers.Dense(10),\n",
    "                          layers.Softmax()])\n",
    "\n",
    "model.summary()\n",
    "model.compile(optimizer='adam', loss=tf.keras.losses.SparseCategoricalCrossentropy(from_logits=True), metrics=['accuracy'])\n",
    "\n",
    "model.fit(x_train,y_train)\n",
    "model.predict(x_test)"
   ]
  },
  {
   "cell_type": "code",
   "execution_count": 70,
   "metadata": {},
   "outputs": [
    {
     "name": "stdout",
     "output_type": "stream",
     "text": [
      "313/313 [==============================] - 1s 2ms/step - loss: 1.5433 - accuracy: 0.9209\n"
     ]
    },
    {
     "data": {
      "text/plain": [
       "[1.5432705879211426, 0.9208999872207642]"
      ]
     },
     "execution_count": 70,
     "metadata": {},
     "output_type": "execute_result"
    }
   ],
   "source": [
    "model.evaluate(x_test,y_test)"
   ]
  },
  {
   "cell_type": "code",
   "execution_count": 56,
   "metadata": {},
   "outputs": [],
   "source": [
    "# The ndim of LSTM_layers must be 3 ?\n",
    "def build_model(lstm_layers, dense_layers, input_shape):\n",
    "    model = keras.Sequential()\n",
    "\n",
    "    model.add(layers.LSTM(units=32, input_shape=input_shape, return_sequences=True))\n",
    "    for i in range(lstm_layers - 1):\n",
    "        model.add(layers.LSTM(units=32 * (i+1), return_sequences=True))\n",
    "    for i in range(dense_layers - 1):\n",
    "        model.add(layers.Dense(256))    # activation='relu'\n",
    "        model.add(layers.Dropout(0.5))\n",
    "    model.add(layers.Dense(1))\n",
    "\n",
    "    model.compile(loss='mse', optimizer='adam', metrics=['accuracy'])\n",
    "    model.summary()\n",
    "    return model"
   ]
  },
  {
   "cell_type": "code",
   "execution_count": 60,
   "metadata": {},
   "outputs": [
    {
     "name": "stdout",
     "output_type": "stream",
     "text": [
      "Model: \"sequential_23\"\n",
      "_________________________________________________________________\n",
      " Layer (type)                Output Shape              Param #   \n",
      "=================================================================\n",
      " lstm_38 (LSTM)              (None, 1, 32)             163200    \n",
      "                                                                 \n",
      " lstm_39 (LSTM)              (None, 1, 32)             8320      \n",
      "                                                                 \n",
      " lstm_40 (LSTM)              (None, 1, 64)             24832     \n",
      "                                                                 \n",
      " dense_10 (Dense)            (None, 1, 1)              65        \n",
      "                                                                 \n",
      "=================================================================\n",
      "Total params: 196,417\n",
      "Trainable params: 196,417\n",
      "Non-trainable params: 0\n",
      "_________________________________________________________________\n",
      "32/32 [==============================] - 5s 10ms/step - loss: 1.0608 - accuracy: 0.0010\n"
     ]
    },
    {
     "data": {
      "text/plain": [
       "<keras.callbacks.History at 0x7f2aa208ed90>"
      ]
     },
     "execution_count": 60,
     "metadata": {},
     "output_type": "execute_result"
    }
   ],
   "source": [
    "x = np.load('/home/qianshuofu/factor_qianshuofu/Data/data_feature.npy')[:1000]\n",
    "y = np.load('/home/qianshuofu/factor_qianshuofu/Data/data_label_oc_1.npy')[:1000][:,2]\n",
    "x = x.reshape(x.shape[0],1,x.shape[1])\n",
    "y = y.reshape(y.shape[0],1,1)\n",
    "\n",
    "model = build_model(3,1,input_shape=(1,1242))\n",
    "model.fit(x,y)"
   ]
  }
 ],
 "metadata": {
  "kernelspec": {
   "display_name": "rapids-22.12",
   "language": "python",
   "name": "python3"
  },
  "language_info": {
   "codemirror_mode": {
    "name": "ipython",
    "version": 3
   },
   "file_extension": ".py",
   "mimetype": "text/x-python",
   "name": "python",
   "nbconvert_exporter": "python",
   "pygments_lexer": "ipython3",
   "version": "3.8.15"
  },
  "orig_nbformat": 4
 },
 "nbformat": 4,
 "nbformat_minor": 2
}
