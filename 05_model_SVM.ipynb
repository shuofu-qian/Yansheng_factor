{
 "cells": [
  {
   "cell_type": "code",
   "execution_count": 1,
   "metadata": {},
   "outputs": [],
   "source": [
    "import numpy as np\n",
    "import math\n",
    "\n",
    "import sklearn\n",
    "from sklearn import metrics\n",
    "\n",
    "from mypython import MLmodel\n"
   ]
  },
  {
   "cell_type": "code",
   "execution_count": 5,
   "metadata": {},
   "outputs": [],
   "source": [
    "class SvmModel(MLmodel.MLmodel):\n",
    "    def __init__(self, x, y, model=sklearn.svm.SVR(), name=None):\n",
    "        super().__init__(x, y, model, name)\n"
   ]
  },
  {
   "cell_type": "code",
   "execution_count": 9,
   "metadata": {},
   "outputs": [
    {
     "name": "stdout",
     "output_type": "stream",
     "text": [
      "svr:  MSE:0.07,RMSE:0.27,MAE:0.22\n",
      "nusvr:  MSE:0.08,RMSE:0.28,MAE:0.23\n"
     ]
    },
    {
     "name": "stderr",
     "output_type": "stream",
     "text": [
      "/home/qianshuofu/anaconda3/envs/tensorflow/lib/python3.8/site-packages/sklearn/svm/_base.py:1244: ConvergenceWarning: Liblinear failed to converge, increase the number of iterations.\n",
      "  warnings.warn(\n"
     ]
    },
    {
     "name": "stdout",
     "output_type": "stream",
     "text": [
      "linearsvr:  MSE:0.06,RMSE:0.25,MAE:0.20\n"
     ]
    }
   ],
   "source": [
    "def main():\n",
    "    global x,y,model_svr,model_nusvr,model_linearsvr\n",
    "\n",
    "    x,y = MLmodel.load_data()\n",
    "\n",
    "    model_svr = SvmModel(x,y,sklearn.svm.SVR(),name='svr')\n",
    "    model_nusvr = SvmModel(x,y,sklearn.svm.NuSVR(),name='nusvr')\n",
    "    model_linearsvr = SvmModel(x,y,sklearn.svm.LinearSVR(),name='linearsvr')\n",
    "\n",
    "    model_svr.split_train_test(0.999).fit_model().predict().evaluate_model()\n",
    "    model_nusvr.split_train_test(0.999).fit_model().predict().evaluate_model()\n",
    "    model_linearsvr.split_train_test(0.999).fit_model().predict().evaluate_model()\n",
    "\n",
    "if __name__ == '__main__':\n",
    "    main()\n",
    "\n",
    "# 为什么半小时也跑不出来一个模型,数据量太大所以svm太慢了吗 ????????? @#$%^&*()\n",
    "# 好像复杂度是n^2,所以指定跑不出来的"
   ]
  },
  {
   "cell_type": "code",
   "execution_count": null,
   "metadata": {},
   "outputs": [],
   "source": []
  }
 ],
 "metadata": {
  "kernelspec": {
   "display_name": "rapids-22.12",
   "language": "python",
   "name": "rapids-22.12"
  },
  "language_info": {
   "codemirror_mode": {
    "name": "ipython",
    "version": 3
   },
   "file_extension": ".py",
   "mimetype": "text/x-python",
   "name": "python",
   "nbconvert_exporter": "python",
   "pygments_lexer": "ipython3",
   "version": "3.8.15"
  },
  "vscode": {
   "interpreter": {
    "hash": "f1569305fd3e5ad2ba6ad63ff50c7d3504611b3812e387f42aa745a19d1205bc"
   }
  }
 },
 "nbformat": 4,
 "nbformat_minor": 2
}
